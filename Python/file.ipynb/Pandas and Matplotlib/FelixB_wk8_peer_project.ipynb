{
 "cells": [
  {
   "cell_type": "code",
   "execution_count": 1,
   "metadata": {},
   "outputs": [],
   "source": [
    "import pandas as pd\n",
    "import matplotlib.pyplot as plt"
   ]
  },
  {
   "cell_type": "markdown",
   "metadata": {},
   "source": [
    "#### Step 1: Create a DataFrame from the list of dictionaries below:"
   ]
  },
  {
   "cell_type": "code",
   "execution_count": 2,
   "metadata": {},
   "outputs": [],
   "source": [
    "store_data = [\n",
    "    {'product_id' : 23, 'name' : 'computer', 'wholesale_price' : 500, 'retail_price' : 1000, 'sales' : 100},\n",
    "    {'product_id' : 96, 'name' : 'Phython Workout', 'wholesale_price' : 35, 'retail_price' : 75, 'sales' : 1000},\n",
    "    {'product_id' : 97, 'name' : 'Pandas Workout', 'wholesale_price' : 35, 'retail_price' : 75, 'sales' : 500},\n",
    "    {'product_id' : 15, 'name' : 'banana', 'wholesale_price' : 0.5, 'retail_price' : 1, 'sales' : 200},\n",
    "    {'product_id' : 87, 'name' : 'sandwich', 'wholesale_price' : 3, 'retail_price' : 5, 'sales' : 300}\n",
    "]"
   ]
  },
  {
   "cell_type": "code",
   "execution_count": 3,
   "metadata": {},
   "outputs": [
    {
     "data": {
      "text/html": [
       "<div>\n",
       "<style scoped>\n",
       "    .dataframe tbody tr th:only-of-type {\n",
       "        vertical-align: middle;\n",
       "    }\n",
       "\n",
       "    .dataframe tbody tr th {\n",
       "        vertical-align: top;\n",
       "    }\n",
       "\n",
       "    .dataframe thead th {\n",
       "        text-align: right;\n",
       "    }\n",
       "</style>\n",
       "<table border=\"1\" class=\"dataframe\">\n",
       "  <thead>\n",
       "    <tr style=\"text-align: right;\">\n",
       "      <th></th>\n",
       "      <th>product_id</th>\n",
       "      <th>wholesale_price</th>\n",
       "      <th>retail_price</th>\n",
       "      <th>sales</th>\n",
       "    </tr>\n",
       "    <tr>\n",
       "      <th>name</th>\n",
       "      <th></th>\n",
       "      <th></th>\n",
       "      <th></th>\n",
       "      <th></th>\n",
       "    </tr>\n",
       "  </thead>\n",
       "  <tbody>\n",
       "    <tr>\n",
       "      <th>computer</th>\n",
       "      <td>23</td>\n",
       "      <td>500.0</td>\n",
       "      <td>1000</td>\n",
       "      <td>100</td>\n",
       "    </tr>\n",
       "    <tr>\n",
       "      <th>Phython Workout</th>\n",
       "      <td>96</td>\n",
       "      <td>35.0</td>\n",
       "      <td>75</td>\n",
       "      <td>1000</td>\n",
       "    </tr>\n",
       "    <tr>\n",
       "      <th>Pandas Workout</th>\n",
       "      <td>97</td>\n",
       "      <td>35.0</td>\n",
       "      <td>75</td>\n",
       "      <td>500</td>\n",
       "    </tr>\n",
       "    <tr>\n",
       "      <th>banana</th>\n",
       "      <td>15</td>\n",
       "      <td>0.5</td>\n",
       "      <td>1</td>\n",
       "      <td>200</td>\n",
       "    </tr>\n",
       "    <tr>\n",
       "      <th>sandwich</th>\n",
       "      <td>87</td>\n",
       "      <td>3.0</td>\n",
       "      <td>5</td>\n",
       "      <td>300</td>\n",
       "    </tr>\n",
       "  </tbody>\n",
       "</table>\n",
       "</div>"
      ],
      "text/plain": [
       "                 product_id  wholesale_price  retail_price  sales\n",
       "name                                                             \n",
       "computer                 23            500.0          1000    100\n",
       "Phython Workout          96             35.0            75   1000\n",
       "Pandas Workout           97             35.0            75    500\n",
       "banana                   15              0.5             1    200\n",
       "sandwich                 87              3.0             5    300"
      ]
     },
     "execution_count": 3,
     "metadata": {},
     "output_type": "execute_result"
    }
   ],
   "source": [
    "# create dataframe from list of dictionaries\n",
    "# set_index as values of the name column instead of the default indexes (0 to -1)\n",
    "store_df = pd.DataFrame(store_data)\n",
    "store_df.set_index('name', inplace = True)\n",
    "store_df"
   ]
  },
  {
   "cell_type": "markdown",
   "metadata": {},
   "source": [
    "#### Step 2: Calculate the Total Profit for each product:"
   ]
  },
  {
   "cell_type": "code",
   "execution_count": 4,
   "metadata": {},
   "outputs": [
    {
     "name": "stdout",
     "output_type": "stream",
     "text": [
      "The total profit for each product is:\n"
     ]
    },
    {
     "data": {
      "text/plain": [
       "name\n",
       "computer           50000.0\n",
       "Phython Workout    40000.0\n",
       "Pandas Workout     20000.0\n",
       "banana               100.0\n",
       "sandwich             600.0\n",
       "Name: total_profit, dtype: float64"
      ]
     },
     "execution_count": 4,
     "metadata": {},
     "output_type": "execute_result"
    }
   ],
   "source": [
    "# calculate net revenue per product = (retail_price - wholesale_price) * sales\n",
    "# add new column with net revenue of each product to dataframe\n",
    "net_revenue_per_product = (store_df['retail_price'] - store_df['wholesale_price']) * store_df['sales']\n",
    "\n",
    "# when the store sales at retail instead of wholesale price,\n",
    "# they make a profit of ((retail_price - whole_sale price) * sales) for each product\n",
    "# which is equal to net revenue of each product\n",
    "# add new column with total profit of each product to dataframe\n",
    "total_profit_per_product = net_revenue_per_product\n",
    "store_df['net_revenue'] = net_revenue_per_product\n",
    "store_df['total_profit'] = total_profit_per_product\n",
    "print('The total profit for each product is:')\n",
    "store_df['total_profit']"
   ]
  },
  {
   "cell_type": "markdown",
   "metadata": {},
   "source": [
    "#### Step 3: Determine the following:\n",
    "##### a). How much total net revenue you received from all of these sales?"
   ]
  },
  {
   "cell_type": "code",
   "execution_count": 5,
   "metadata": {},
   "outputs": [
    {
     "name": "stdout",
     "output_type": "stream",
     "text": [
      "The total net revenue received from all the sales is: GH₵ 110,700.00\n"
     ]
    }
   ],
   "source": [
    "# sum net revenue of all products to get total net revenue of all sales \n",
    "total_net_revenue = store_df['net_revenue'].sum()\n",
    "print(f\"The total net revenue received from all the sales is: {'GH₵ {:,.2f}'.format(total_net_revenue)}\")"
   ]
  },
  {
   "cell_type": "markdown",
   "metadata": {},
   "source": [
    "##### b). For what products is the retail_price more than twice the wholesale_price?"
   ]
  },
  {
   "cell_type": "code",
   "execution_count": 6,
   "metadata": {},
   "outputs": [
    {
     "name": "stdout",
     "output_type": "stream",
     "text": [
      "The products whose retail price is more than twice the wholesale price is:\n"
     ]
    },
    {
     "data": {
      "text/html": [
       "<div>\n",
       "<style scoped>\n",
       "    .dataframe tbody tr th:only-of-type {\n",
       "        vertical-align: middle;\n",
       "    }\n",
       "\n",
       "    .dataframe tbody tr th {\n",
       "        vertical-align: top;\n",
       "    }\n",
       "\n",
       "    .dataframe thead th {\n",
       "        text-align: right;\n",
       "    }\n",
       "</style>\n",
       "<table border=\"1\" class=\"dataframe\">\n",
       "  <thead>\n",
       "    <tr style=\"text-align: right;\">\n",
       "      <th></th>\n",
       "      <th>wholesale_price</th>\n",
       "      <th>retail_price</th>\n",
       "    </tr>\n",
       "    <tr>\n",
       "      <th>name</th>\n",
       "      <th></th>\n",
       "      <th></th>\n",
       "    </tr>\n",
       "  </thead>\n",
       "  <tbody>\n",
       "    <tr>\n",
       "      <th>Phython Workout</th>\n",
       "      <td>35.0</td>\n",
       "      <td>75</td>\n",
       "    </tr>\n",
       "    <tr>\n",
       "      <th>Pandas Workout</th>\n",
       "      <td>35.0</td>\n",
       "      <td>75</td>\n",
       "    </tr>\n",
       "  </tbody>\n",
       "</table>\n",
       "</div>"
      ],
      "text/plain": [
       "                 wholesale_price  retail_price\n",
       "name                                          \n",
       "Phython Workout             35.0            75\n",
       "Pandas Workout              35.0            75"
      ]
     },
     "execution_count": 6,
     "metadata": {},
     "output_type": "execute_result"
    }
   ],
   "source": [
    "# create a filter to grab the rows of data with products whose retail_price is more than twice the wholesale_price\n",
    "# return dataframe with product name, wholesale and retail prices to visualize the filtered data\n",
    "filt = (store_df['retail_price'] > store_df['wholesale_price'] * 2)\n",
    "print('The products whose retail price is more than twice the wholesale price is:')\n",
    "store_df.loc[filt, ['wholesale_price', 'retail_price']]"
   ]
  },
  {
   "cell_type": "markdown",
   "metadata": {},
   "source": [
    "##### c). How much did the store make from foods vs. computers vs. books?"
   ]
  },
  {
   "cell_type": "code",
   "execution_count": 7,
   "metadata": {},
   "outputs": [
    {
     "name": "stdout",
     "output_type": "stream",
     "text": [
      "The total net revenue from sales of food products is: GH₵ 700.00\n",
      "The total net revenue from sales of computer products is: GH₵ 50,000.00\n",
      "The total net revenue from sales of books is: GH₵ 60,000.00\n"
     ]
    }
   ],
   "source": [
    "# grab rows of each group of products i.e., food products, computer products and books\n",
    "# calculate the total net revenue of each group of products\n",
    "foods = store_df.iloc[[3,4]]\n",
    "computers = store_df.iloc[0]\n",
    "books = store_df.iloc[[1,2]]\n",
    "\n",
    "# total net revenue obtained from sales of foods, computers and books\n",
    "net_foods_revenue = foods['net_revenue'].sum()\n",
    "net_computers_revenue = computers['net_revenue'].sum()\n",
    "net_books_revenue = books['net_revenue'].sum()\n",
    "\n",
    "print(f\"The total net revenue from sales of food products is: GH₵ {net_foods_revenue:,.2f}\")\n",
    "print(f\"The total net revenue from sales of computer products is: GH₵ {net_computers_revenue:,.2f}\")\n",
    "print(f\"The total net revenue from sales of books is: GH₵ {net_books_revenue:,.2f}\")"
   ]
  },
  {
   "cell_type": "code",
   "execution_count": 8,
   "metadata": {},
   "outputs": [
    {
     "data": {
      "image/png": "[encoded data removed]",
      "text/plain": [
       "<Figure size 640x480 with 1 Axes>"
      ]
     },
     "metadata": {},
     "output_type": "display_data"
    }
   ],
   "source": [
    "# use matplotlib library to visualize the comparison of how much the store made from sales of each group of products\n",
    "# use bar graph visualization\n",
    "# x values should be the product groups\n",
    "# y values should be the total revenue of each group of products in the order respective to product groups\n",
    "x = ['foods', 'computers', 'books']\n",
    "y = [net_foods_revenue, net_computers_revenue, net_books_revenue]\n",
    "plt.bar(x,y)\n",
    "\n",
    "# add labels and title to clearly represent the visualized data\n",
    "plt.xlabel('Products')\n",
    "plt.ylabel('Net Revenue')\n",
    "plt.title('Amount the store makes from food vs. computers vs. books')\n",
    "plt.show()"
   ]
  },
  {
   "cell_type": "markdown",
   "metadata": {},
   "source": [
    "##### Because your store is doing so well, you're able to negotiate a 30% discount on the wholesale price of goods. Calculate the new net revenue."
   ]
  },
  {
   "cell_type": "code",
   "execution_count": 9,
   "metadata": {},
   "outputs": [
    {
     "name": "stdout",
     "output_type": "stream",
     "text": [
      "The new net revenue of each product after a 30% discount on their wholesale price is:\n"
     ]
    },
    {
     "data": {
      "text/plain": [
       "name\n",
       "computer           65000.0\n",
       "Phython Workout    50500.0\n",
       "Pandas Workout     25250.0\n",
       "banana               130.0\n",
       "sandwich             870.0\n",
       "Name: new_net_revenue, dtype: float64"
      ]
     },
     "execution_count": 9,
     "metadata": {},
     "output_type": "execute_result"
    }
   ],
   "source": [
    "# calculate new wholesale price after 30% discount\n",
    "# calculate new net revenue and add it to the dataframe\n",
    "new_wholesale_price = ((100-30)/100) * store_df['wholesale_price']\n",
    "new_net_revenue_per_product = (store_df['retail_price'] - new_wholesale_price) * store_df['sales']\n",
    "\n",
    "store_df['new_net_revenue'] = new_net_revenue_per_product\n",
    "print('The new net revenue of each product after a 30% discount on their wholesale price is:')\n",
    "store_df.loc[:, 'new_net_revenue']"
   ]
  }
 ],
 "metadata": {
  "kernelspec": {
   "display_name": "Python 3.10.7 64-bit",
   "language": "python",
   "name": "python3"
  },
  "language_info": {
   "codemirror_mode": {
    "name": "ipython",
    "version": 3
   },
   "file_extension": ".py",
   "mimetype": "text/x-python",
   "name": "python",
   "nbconvert_exporter": "python",
   "pygments_lexer": "ipython3",
   "version": "3.10.7"
  },
  "orig_nbformat": 4,
  "vscode": {
   "interpreter": {
    "hash": "c1e94f3e9cf47a2296e52f89950a22b5d07ea05f6a0db6c01e468849e9483daa"
   }
  }
 },
 "nbformat": 4,
 "nbformat_minor": 2
}
