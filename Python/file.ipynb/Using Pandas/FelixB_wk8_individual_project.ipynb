{
 "cells": [
  {
   "cell_type": "markdown",
   "metadata": {},
   "source": [
    "##### Our local government is thinking about imposing a sales tax with 15, 20 and 25 percent rates.\n",
    "##### Show how much less you would net with each of these tax amounts by adding columns to the data frame. \n",
    "##### Add column for the current income to the data frame as well."
   ]
  },
  {
   "cell_type": "code",
   "execution_count": 1,
   "metadata": {},
   "outputs": [],
   "source": [
    "import pandas as pd"
   ]
  },
  {
   "cell_type": "code",
   "execution_count": 2,
   "metadata": {},
   "outputs": [],
   "source": [
    "# create a DataFrame from the list of dictionaries below:\n",
    "store_data = [\n",
    "    {'product_id' : 23, 'name' : 'computer', 'wholesale_price' : 500, 'retail_price' : 1000, 'sales' : 100},\n",
    "    {'product_id' : 96, 'name' : 'Phython Workout', 'wholesale_price' : 35, 'retail_price' : 75, 'sales' : 1000},\n",
    "    {'product_id' : 97, 'name' : 'Pandas Workout', 'wholesale_price' : 35, 'retail_price' : 75, 'sales' : 500},\n",
    "    {'product_id' : 15, 'name' : 'banana', 'wholesale_price' : 0.5, 'retail_price' : 1, 'sales' : 200},\n",
    "    {'product_id' : 87, 'name' : 'sandwich', 'wholesale_price' : 3, 'retail_price' : 5, 'sales' : 300}\n",
    "]"
   ]
  },
  {
   "cell_type": "code",
   "execution_count": 3,
   "metadata": {},
   "outputs": [
    {
     "data": {
      "text/html": [
       "<div>\n",
       "<style scoped>\n",
       "    .dataframe tbody tr th:only-of-type {\n",
       "        vertical-align: middle;\n",
       "    }\n",
       "\n",
       "    .dataframe tbody tr th {\n",
       "        vertical-align: top;\n",
       "    }\n",
       "\n",
       "    .dataframe thead th {\n",
       "        text-align: right;\n",
       "    }\n",
       "</style>\n",
       "<table border=\"1\" class=\"dataframe\">\n",
       "  <thead>\n",
       "    <tr style=\"text-align: right;\">\n",
       "      <th></th>\n",
       "      <th>product_id</th>\n",
       "      <th>wholesale_price</th>\n",
       "      <th>retail_price</th>\n",
       "      <th>sales</th>\n",
       "    </tr>\n",
       "    <tr>\n",
       "      <th>name</th>\n",
       "      <th></th>\n",
       "      <th></th>\n",
       "      <th></th>\n",
       "      <th></th>\n",
       "    </tr>\n",
       "  </thead>\n",
       "  <tbody>\n",
       "    <tr>\n",
       "      <th>computer</th>\n",
       "      <td>23</td>\n",
       "      <td>500.0</td>\n",
       "      <td>1000</td>\n",
       "      <td>100</td>\n",
       "    </tr>\n",
       "    <tr>\n",
       "      <th>Phython Workout</th>\n",
       "      <td>96</td>\n",
       "      <td>35.0</td>\n",
       "      <td>75</td>\n",
       "      <td>1000</td>\n",
       "    </tr>\n",
       "    <tr>\n",
       "      <th>Pandas Workout</th>\n",
       "      <td>97</td>\n",
       "      <td>35.0</td>\n",
       "      <td>75</td>\n",
       "      <td>500</td>\n",
       "    </tr>\n",
       "    <tr>\n",
       "      <th>banana</th>\n",
       "      <td>15</td>\n",
       "      <td>0.5</td>\n",
       "      <td>1</td>\n",
       "      <td>200</td>\n",
       "    </tr>\n",
       "    <tr>\n",
       "      <th>sandwich</th>\n",
       "      <td>87</td>\n",
       "      <td>3.0</td>\n",
       "      <td>5</td>\n",
       "      <td>300</td>\n",
       "    </tr>\n",
       "  </tbody>\n",
       "</table>\n",
       "</div>"
      ],
      "text/plain": [
       "                 product_id  wholesale_price  retail_price  sales\n",
       "name                                                             \n",
       "computer                 23            500.0          1000    100\n",
       "Phython Workout          96             35.0            75   1000\n",
       "Pandas Workout           97             35.0            75    500\n",
       "banana                   15              0.5             1    200\n",
       "sandwich                 87              3.0             5    300"
      ]
     },
     "execution_count": 3,
     "metadata": {},
     "output_type": "execute_result"
    }
   ],
   "source": [
    "store_df = pd.DataFrame(store_data)\n",
    "# set_index as values of name column instead of the default indexes (0 to -1) \n",
    "store_df.set_index('name', inplace = True)\n",
    "store_df"
   ]
  },
  {
   "cell_type": "code",
   "execution_count": 4,
   "metadata": {},
   "outputs": [
    {
     "data": {
      "text/html": [
       "<div>\n",
       "<style scoped>\n",
       "    .dataframe tbody tr th:only-of-type {\n",
       "        vertical-align: middle;\n",
       "    }\n",
       "\n",
       "    .dataframe tbody tr th {\n",
       "        vertical-align: top;\n",
       "    }\n",
       "\n",
       "    .dataframe thead th {\n",
       "        text-align: right;\n",
       "    }\n",
       "</style>\n",
       "<table border=\"1\" class=\"dataframe\">\n",
       "  <thead>\n",
       "    <tr style=\"text-align: right;\">\n",
       "      <th></th>\n",
       "      <th>product_id</th>\n",
       "      <th>wholesale_price</th>\n",
       "      <th>retail_price</th>\n",
       "      <th>sales</th>\n",
       "      <th>initial_net_revenue</th>\n",
       "    </tr>\n",
       "    <tr>\n",
       "      <th>name</th>\n",
       "      <th></th>\n",
       "      <th></th>\n",
       "      <th></th>\n",
       "      <th></th>\n",
       "      <th></th>\n",
       "    </tr>\n",
       "  </thead>\n",
       "  <tbody>\n",
       "    <tr>\n",
       "      <th>computer</th>\n",
       "      <td>23</td>\n",
       "      <td>500.0</td>\n",
       "      <td>1000</td>\n",
       "      <td>100</td>\n",
       "      <td>50000.0</td>\n",
       "    </tr>\n",
       "    <tr>\n",
       "      <th>Phython Workout</th>\n",
       "      <td>96</td>\n",
       "      <td>35.0</td>\n",
       "      <td>75</td>\n",
       "      <td>1000</td>\n",
       "      <td>40000.0</td>\n",
       "    </tr>\n",
       "    <tr>\n",
       "      <th>Pandas Workout</th>\n",
       "      <td>97</td>\n",
       "      <td>35.0</td>\n",
       "      <td>75</td>\n",
       "      <td>500</td>\n",
       "      <td>20000.0</td>\n",
       "    </tr>\n",
       "    <tr>\n",
       "      <th>banana</th>\n",
       "      <td>15</td>\n",
       "      <td>0.5</td>\n",
       "      <td>1</td>\n",
       "      <td>200</td>\n",
       "      <td>100.0</td>\n",
       "    </tr>\n",
       "    <tr>\n",
       "      <th>sandwich</th>\n",
       "      <td>87</td>\n",
       "      <td>3.0</td>\n",
       "      <td>5</td>\n",
       "      <td>300</td>\n",
       "      <td>600.0</td>\n",
       "    </tr>\n",
       "  </tbody>\n",
       "</table>\n",
       "</div>"
      ],
      "text/plain": [
       "                 product_id  wholesale_price  retail_price  sales  \\\n",
       "name                                                                \n",
       "computer                 23            500.0          1000    100   \n",
       "Phython Workout          96             35.0            75   1000   \n",
       "Pandas Workout           97             35.0            75    500   \n",
       "banana                   15              0.5             1    200   \n",
       "sandwich                 87              3.0             5    300   \n",
       "\n",
       "                 initial_net_revenue  \n",
       "name                                  \n",
       "computer                     50000.0  \n",
       "Phython Workout              40000.0  \n",
       "Pandas Workout               20000.0  \n",
       "banana                         100.0  \n",
       "sandwich                       600.0  "
      ]
     },
     "execution_count": 4,
     "metadata": {},
     "output_type": "execute_result"
    }
   ],
   "source": [
    "# calculate the current income (net revenue per product)\n",
    "# add column of current income to dataframe\n",
    "net_revenue_per_product = (store_df['retail_price'] - store_df['wholesale_price']) * store_df['sales']\n",
    "store_df['initial_net_revenue'] = net_revenue_per_product\n",
    "store_df"
   ]
  },
  {
   "cell_type": "markdown",
   "metadata": {},
   "source": [
    "##### Calculate net income after imposing taxes of 15, 20 and 25 percent rates on sales\n",
    "##### Add the net income columns obtained after imposing each tax rate on sales to the dataframe\n",
    "##### Show how much less you would net with each of these tax amounts"
   ]
  },
  {
   "cell_type": "code",
   "execution_count": 5,
   "metadata": {},
   "outputs": [
    {
     "name": "stdout",
     "output_type": "stream",
     "text": [
      "This is how much less I would net with 15% tax rate on sales:\n"
     ]
    },
    {
     "data": {
      "text/plain": [
       "name\n",
       "computer           7500.0\n",
       "Phython Workout    6000.0\n",
       "Pandas Workout     3000.0\n",
       "banana               15.0\n",
       "sandwich             90.0\n",
       "dtype: float64"
      ]
     },
     "execution_count": 5,
     "metadata": {},
     "output_type": "execute_result"
    }
   ],
   "source": [
    "# net income after 15% tax on sales\n",
    "net_income_after_15pct_tax = ((100 - 15)/100) * store_df['initial_net_revenue']\n",
    "store_df['net_income_after_15pct_tax'] = net_income_after_15pct_tax\n",
    "\n",
    "pct15_much_less = store_df['initial_net_revenue'] - store_df['net_income_after_15pct_tax']\n",
    "print('This is how much less I would net with 15% tax rate on sales:')\n",
    "pct15_much_less"
   ]
  },
  {
   "cell_type": "code",
   "execution_count": 6,
   "metadata": {},
   "outputs": [
    {
     "name": "stdout",
     "output_type": "stream",
     "text": [
      "This is how much less I would net with 20% tax rate on sales:\n"
     ]
    },
    {
     "data": {
      "text/plain": [
       "name\n",
       "computer           10000.0\n",
       "Phython Workout     8000.0\n",
       "Pandas Workout      4000.0\n",
       "banana                20.0\n",
       "sandwich             120.0\n",
       "dtype: float64"
      ]
     },
     "execution_count": 6,
     "metadata": {},
     "output_type": "execute_result"
    }
   ],
   "source": [
    "# net income after 20% tax on sales\n",
    "net_income_after_20pct_tax = ((100 - 20)/100) * store_df['initial_net_revenue']\n",
    "store_df['net_income_after_20pct_tax'] = net_income_after_20pct_tax\n",
    "\n",
    "pct20_much_less = store_df['initial_net_revenue'] - store_df['net_income_after_20pct_tax']\n",
    "print('This is how much less I would net with 20% tax rate on sales:')\n",
    "pct20_much_less"
   ]
  },
  {
   "cell_type": "code",
   "execution_count": 7,
   "metadata": {},
   "outputs": [
    {
     "name": "stdout",
     "output_type": "stream",
     "text": [
      "This is how much less I would net with 25% tax rate on sales:\n"
     ]
    },
    {
     "data": {
      "text/plain": [
       "name\n",
       "computer           12500.0\n",
       "Phython Workout    10000.0\n",
       "Pandas Workout      5000.0\n",
       "banana                25.0\n",
       "sandwich             150.0\n",
       "dtype: float64"
      ]
     },
     "execution_count": 7,
     "metadata": {},
     "output_type": "execute_result"
    }
   ],
   "source": [
    "# net income after 25% tax on sales\n",
    "net_income_after_25pct_tax = ((100 - 25)/100) * store_df['initial_net_revenue']\n",
    "store_df['net_income_after_25pct_tax'] = net_income_after_25pct_tax\n",
    "\n",
    "pct25_much_less = store_df['initial_net_revenue'] - store_df['net_income_after_25pct_tax']\n",
    "print('This is how much less I would net with 25% tax rate on sales:')\n",
    "pct25_much_less"
   ]
  },
  {
   "cell_type": "code",
   "execution_count": 8,
   "metadata": {},
   "outputs": [
    {
     "name": "stdout",
     "output_type": "stream",
     "text": [
      "The data frame with the initial net revenue and net incomes after imposing a 15, 20 and 25 percent tax rate on sales is:\n"
     ]
    },
    {
     "data": {
      "text/html": [
       "<div>\n",
       "<style scoped>\n",
       "    .dataframe tbody tr th:only-of-type {\n",
       "        vertical-align: middle;\n",
       "    }\n",
       "\n",
       "    .dataframe tbody tr th {\n",
       "        vertical-align: top;\n",
       "    }\n",
       "\n",
       "    .dataframe thead th {\n",
       "        text-align: right;\n",
       "    }\n",
       "</style>\n",
       "<table border=\"1\" class=\"dataframe\">\n",
       "  <thead>\n",
       "    <tr style=\"text-align: right;\">\n",
       "      <th></th>\n",
       "      <th>product_id</th>\n",
       "      <th>wholesale_price</th>\n",
       "      <th>retail_price</th>\n",
       "      <th>sales</th>\n",
       "      <th>initial_net_revenue</th>\n",
       "      <th>net_income_after_15pct_tax</th>\n",
       "      <th>net_income_after_20pct_tax</th>\n",
       "      <th>net_income_after_25pct_tax</th>\n",
       "    </tr>\n",
       "    <tr>\n",
       "      <th>name</th>\n",
       "      <th></th>\n",
       "      <th></th>\n",
       "      <th></th>\n",
       "      <th></th>\n",
       "      <th></th>\n",
       "      <th></th>\n",
       "      <th></th>\n",
       "      <th></th>\n",
       "    </tr>\n",
       "  </thead>\n",
       "  <tbody>\n",
       "    <tr>\n",
       "      <th>computer</th>\n",
       "      <td>23</td>\n",
       "      <td>500.0</td>\n",
       "      <td>1000</td>\n",
       "      <td>100</td>\n",
       "      <td>50000.0</td>\n",
       "      <td>42500.0</td>\n",
       "      <td>40000.0</td>\n",
       "      <td>37500.0</td>\n",
       "    </tr>\n",
       "    <tr>\n",
       "      <th>Phython Workout</th>\n",
       "      <td>96</td>\n",
       "      <td>35.0</td>\n",
       "      <td>75</td>\n",
       "      <td>1000</td>\n",
       "      <td>40000.0</td>\n",
       "      <td>34000.0</td>\n",
       "      <td>32000.0</td>\n",
       "      <td>30000.0</td>\n",
       "    </tr>\n",
       "    <tr>\n",
       "      <th>Pandas Workout</th>\n",
       "      <td>97</td>\n",
       "      <td>35.0</td>\n",
       "      <td>75</td>\n",
       "      <td>500</td>\n",
       "      <td>20000.0</td>\n",
       "      <td>17000.0</td>\n",
       "      <td>16000.0</td>\n",
       "      <td>15000.0</td>\n",
       "    </tr>\n",
       "    <tr>\n",
       "      <th>banana</th>\n",
       "      <td>15</td>\n",
       "      <td>0.5</td>\n",
       "      <td>1</td>\n",
       "      <td>200</td>\n",
       "      <td>100.0</td>\n",
       "      <td>85.0</td>\n",
       "      <td>80.0</td>\n",
       "      <td>75.0</td>\n",
       "    </tr>\n",
       "    <tr>\n",
       "      <th>sandwich</th>\n",
       "      <td>87</td>\n",
       "      <td>3.0</td>\n",
       "      <td>5</td>\n",
       "      <td>300</td>\n",
       "      <td>600.0</td>\n",
       "      <td>510.0</td>\n",
       "      <td>480.0</td>\n",
       "      <td>450.0</td>\n",
       "    </tr>\n",
       "  </tbody>\n",
       "</table>\n",
       "</div>"
      ],
      "text/plain": [
       "                 product_id  wholesale_price  retail_price  sales  \\\n",
       "name                                                                \n",
       "computer                 23            500.0          1000    100   \n",
       "Phython Workout          96             35.0            75   1000   \n",
       "Pandas Workout           97             35.0            75    500   \n",
       "banana                   15              0.5             1    200   \n",
       "sandwich                 87              3.0             5    300   \n",
       "\n",
       "                 initial_net_revenue  net_income_after_15pct_tax  \\\n",
       "name                                                               \n",
       "computer                     50000.0                     42500.0   \n",
       "Phython Workout              40000.0                     34000.0   \n",
       "Pandas Workout               20000.0                     17000.0   \n",
       "banana                         100.0                        85.0   \n",
       "sandwich                       600.0                       510.0   \n",
       "\n",
       "                 net_income_after_20pct_tax  net_income_after_25pct_tax  \n",
       "name                                                                     \n",
       "computer                            40000.0                     37500.0  \n",
       "Phython Workout                     32000.0                     30000.0  \n",
       "Pandas Workout                      16000.0                     15000.0  \n",
       "banana                                 80.0                        75.0  \n",
       "sandwich                              480.0                       450.0  "
      ]
     },
     "execution_count": 8,
     "metadata": {},
     "output_type": "execute_result"
    }
   ],
   "source": [
    "print('The data frame with the initial net revenue and net incomes after imposing a 15, 20 and 25 percent tax rate on sales is:')\n",
    "store_df"
   ]
  }
 ],
 "metadata": {
  "kernelspec": {
   "display_name": "Python 3.10.7 64-bit",
   "language": "python",
   "name": "python3"
  },
  "language_info": {
   "codemirror_mode": {
    "name": "ipython",
    "version": 3
   },
   "file_extension": ".py",
   "mimetype": "text/x-python",
   "name": "python",
   "nbconvert_exporter": "python",
   "pygments_lexer": "ipython3",
   "version": "3.10.7"
  },
  "orig_nbformat": 4,
  "vscode": {
   "interpreter": {
    "hash": "c1e94f3e9cf47a2296e52f89950a22b5d07ea05f6a0db6c01e468849e9483daa"
   }
  }
 },
 "nbformat": 4,
 "nbformat_minor": 2
}
