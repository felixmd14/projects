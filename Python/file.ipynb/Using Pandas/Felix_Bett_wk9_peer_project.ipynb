{
 "cells": [
  {
   "cell_type": "markdown",
   "metadata": {},
   "source": [
    "# **Week 9 Practice Lab**"
   ]
  },
  {
   "cell_type": "markdown",
   "metadata": {},
   "source": [
    "### In this exercise, we're going to identify missing values, one of the most common problems that you will encounter. We'll see just how often there are missing values, and what effect they might have."
   ]
  },
  {
   "cell_type": "markdown",
   "metadata": {},
   "source": [
    "#### Create a data frame from the file **nyc-parking-violations-2020.csv.** We are only interested in a handful of the columns:"
   ]
  },
  {
   "cell_type": "markdown",
   "metadata": {},
   "source": [
    "1. Plate ID\n",
    "2. Registration State\n",
    "3. Vehicle Make\n",
    "4. Vehicle Color\n",
    "5. Violation Time\n",
    "6. Street Name"
   ]
  },
  {
   "cell_type": "code",
   "execution_count": 1,
   "metadata": {},
   "outputs": [],
   "source": [
    "import pandas as pd\n",
    "\n",
    "# create a list of columns you want to load into Data Frame\n",
    "# load CSV file with pandas read_csv function\n",
    "cols_list = ['Plate ID', 'Registration State', 'Vehicle Make', 'Vehicle Color', 'Violation Time', 'Street Name']\n",
    "parking_violations = pd.read_csv('C:\\Data Analytics Professional\\Week 9/violations.csv', usecols = cols_list)"
   ]
  },
  {
   "cell_type": "code",
   "execution_count": 2,
   "metadata": {},
   "outputs": [
    {
     "data": {
      "text/html": [
       "<div>\n",
       "<style scoped>\n",
       "    .dataframe tbody tr th:only-of-type {\n",
       "        vertical-align: middle;\n",
       "    }\n",
       "\n",
       "    .dataframe tbody tr th {\n",
       "        vertical-align: top;\n",
       "    }\n",
       "\n",
       "    .dataframe thead th {\n",
       "        text-align: right;\n",
       "    }\n",
       "</style>\n",
       "<table border=\"1\" class=\"dataframe\">\n",
       "  <thead>\n",
       "    <tr style=\"text-align: right;\">\n",
       "      <th></th>\n",
       "      <th>Plate ID</th>\n",
       "      <th>Registration State</th>\n",
       "      <th>Vehicle Make</th>\n",
       "      <th>Violation Time</th>\n",
       "      <th>Street Name</th>\n",
       "      <th>Vehicle Color</th>\n",
       "    </tr>\n",
       "  </thead>\n",
       "  <tbody>\n",
       "    <tr>\n",
       "      <th>0</th>\n",
       "      <td>KGK6659</td>\n",
       "      <td>NY</td>\n",
       "      <td>BMW</td>\n",
       "      <td>0637P</td>\n",
       "      <td>WB ATLANTIC AVE @ SH</td>\n",
       "      <td>GY</td>\n",
       "    </tr>\n",
       "    <tr>\n",
       "      <th>1</th>\n",
       "      <td>L5232HY</td>\n",
       "      <td>TN</td>\n",
       "      <td>INTER</td>\n",
       "      <td>0853A</td>\n",
       "      <td>Rockaway Beach Blvd</td>\n",
       "      <td>WHITE</td>\n",
       "    </tr>\n",
       "    <tr>\n",
       "      <th>2</th>\n",
       "      <td>BPMN76</td>\n",
       "      <td>FL</td>\n",
       "      <td>NISSA</td>\n",
       "      <td>0853A</td>\n",
       "      <td>W 113th St</td>\n",
       "      <td>BLACK</td>\n",
       "    </tr>\n",
       "    <tr>\n",
       "      <th>3</th>\n",
       "      <td>57387MJ</td>\n",
       "      <td>NY</td>\n",
       "      <td>NaN</td>\n",
       "      <td>0444P</td>\n",
       "      <td>W 33rd St</td>\n",
       "      <td>WH</td>\n",
       "    </tr>\n",
       "    <tr>\n",
       "      <th>4</th>\n",
       "      <td>M81KFJ</td>\n",
       "      <td>NJ</td>\n",
       "      <td>TOYOT</td>\n",
       "      <td>0723A</td>\n",
       "      <td>WB FOSTER AVE @ E 18</td>\n",
       "      <td>NaN</td>\n",
       "    </tr>\n",
       "    <tr>\n",
       "      <th>...</th>\n",
       "      <td>...</td>\n",
       "      <td>...</td>\n",
       "      <td>...</td>\n",
       "      <td>...</td>\n",
       "      <td>...</td>\n",
       "      <td>...</td>\n",
       "    </tr>\n",
       "    <tr>\n",
       "      <th>49995</th>\n",
       "      <td>JPN4910</td>\n",
       "      <td>NY</td>\n",
       "      <td>FORD</td>\n",
       "      <td>0342P</td>\n",
       "      <td>EB E 125TH ST @ 2ND</td>\n",
       "      <td>RD</td>\n",
       "    </tr>\n",
       "    <tr>\n",
       "      <th>49996</th>\n",
       "      <td>174ZYG</td>\n",
       "      <td>CT</td>\n",
       "      <td>TOYOT</td>\n",
       "      <td>0828A</td>\n",
       "      <td>W 13th St</td>\n",
       "      <td>BLACK</td>\n",
       "    </tr>\n",
       "    <tr>\n",
       "      <th>49997</th>\n",
       "      <td>HES6895</td>\n",
       "      <td>NY</td>\n",
       "      <td>CADIL</td>\n",
       "      <td>0933P</td>\n",
       "      <td>E 182nd St</td>\n",
       "      <td>RD</td>\n",
       "    </tr>\n",
       "    <tr>\n",
       "      <th>49998</th>\n",
       "      <td>63035MN</td>\n",
       "      <td>NY</td>\n",
       "      <td>ISUZU</td>\n",
       "      <td>1215P</td>\n",
       "      <td>W Kingsbridge Rd</td>\n",
       "      <td>WH</td>\n",
       "    </tr>\n",
       "    <tr>\n",
       "      <th>49999</th>\n",
       "      <td>AW74165</td>\n",
       "      <td>CT</td>\n",
       "      <td>HONDA</td>\n",
       "      <td>0128P</td>\n",
       "      <td>Canal Pl</td>\n",
       "      <td>BLACK</td>\n",
       "    </tr>\n",
       "  </tbody>\n",
       "</table>\n",
       "<p>50000 rows × 6 columns</p>\n",
       "</div>"
      ],
      "text/plain": [
       "      Plate ID Registration State Vehicle Make Violation Time  \\\n",
       "0      KGK6659                 NY          BMW          0637P   \n",
       "1      L5232HY                 TN        INTER          0853A   \n",
       "2       BPMN76                 FL        NISSA          0853A   \n",
       "3      57387MJ                 NY          NaN          0444P   \n",
       "4       M81KFJ                 NJ        TOYOT          0723A   \n",
       "...        ...                ...          ...            ...   \n",
       "49995  JPN4910                 NY         FORD          0342P   \n",
       "49996   174ZYG                 CT        TOYOT          0828A   \n",
       "49997  HES6895                 NY        CADIL          0933P   \n",
       "49998  63035MN                 NY        ISUZU          1215P   \n",
       "49999  AW74165                 CT        HONDA          0128P   \n",
       "\n",
       "                Street Name Vehicle Color  \n",
       "0      WB ATLANTIC AVE @ SH            GY  \n",
       "1       Rockaway Beach Blvd         WHITE  \n",
       "2                W 113th St         BLACK  \n",
       "3                 W 33rd St            WH  \n",
       "4      WB FOSTER AVE @ E 18           NaN  \n",
       "...                     ...           ...  \n",
       "49995   EB E 125TH ST @ 2ND            RD  \n",
       "49996             W 13th St         BLACK  \n",
       "49997            E 182nd St            RD  \n",
       "49998      W Kingsbridge Rd            WH  \n",
       "49999              Canal Pl         BLACK  \n",
       "\n",
       "[50000 rows x 6 columns]"
      ]
     },
     "execution_count": 2,
     "metadata": {},
     "output_type": "execute_result"
    }
   ],
   "source": [
    "violations_df = pd.DataFrame(parking_violations)\n",
    "violations_df"
   ]
  },
  {
   "cell_type": "markdown",
   "metadata": {},
   "source": [
    "## **Questions**"
   ]
  },
  {
   "cell_type": "markdown",
   "metadata": {},
   "source": [
    "1. How many rows are in the data frame when it is read into memory?"
   ]
  },
  {
   "cell_type": "code",
   "execution_count": 3,
   "metadata": {},
   "outputs": [
    {
     "name": "stdout",
     "output_type": "stream",
     "text": [
      "The number of rows the data frame when it is read into memory is: 50,000\n"
     ]
    }
   ],
   "source": [
    "# total number of rows is the first value of the tuple obtained when you use the shape attribute on a dataframe\n",
    "total_rows = violations_df.shape[0]\n",
    "print(f'The number of rows the data frame when it is read into memory is: {total_rows:,}')"
   ]
  },
  {
   "cell_type": "markdown",
   "metadata": {},
   "source": [
    "2.\n",
    "a). Remove rows with any missing data (i.e., a NaN value)."
   ]
  },
  {
   "cell_type": "code",
   "execution_count": 4,
   "metadata": {},
   "outputs": [
    {
     "data": {
      "text/html": [
       "<div>\n",
       "<style scoped>\n",
       "    .dataframe tbody tr th:only-of-type {\n",
       "        vertical-align: middle;\n",
       "    }\n",
       "\n",
       "    .dataframe tbody tr th {\n",
       "        vertical-align: top;\n",
       "    }\n",
       "\n",
       "    .dataframe thead th {\n",
       "        text-align: right;\n",
       "    }\n",
       "</style>\n",
       "<table border=\"1\" class=\"dataframe\">\n",
       "  <thead>\n",
       "    <tr style=\"text-align: right;\">\n",
       "      <th></th>\n",
       "      <th>Plate ID</th>\n",
       "      <th>Registration State</th>\n",
       "      <th>Vehicle Make</th>\n",
       "      <th>Violation Time</th>\n",
       "      <th>Street Name</th>\n",
       "      <th>Vehicle Color</th>\n",
       "    </tr>\n",
       "  </thead>\n",
       "  <tbody>\n",
       "    <tr>\n",
       "      <th>0</th>\n",
       "      <td>KGK6659</td>\n",
       "      <td>NY</td>\n",
       "      <td>BMW</td>\n",
       "      <td>0637P</td>\n",
       "      <td>WB ATLANTIC AVE @ SH</td>\n",
       "      <td>GY</td>\n",
       "    </tr>\n",
       "    <tr>\n",
       "      <th>1</th>\n",
       "      <td>L5232HY</td>\n",
       "      <td>TN</td>\n",
       "      <td>INTER</td>\n",
       "      <td>0853A</td>\n",
       "      <td>Rockaway Beach Blvd</td>\n",
       "      <td>WHITE</td>\n",
       "    </tr>\n",
       "    <tr>\n",
       "      <th>2</th>\n",
       "      <td>BPMN76</td>\n",
       "      <td>FL</td>\n",
       "      <td>NISSA</td>\n",
       "      <td>0853A</td>\n",
       "      <td>W 113th St</td>\n",
       "      <td>BLACK</td>\n",
       "    </tr>\n",
       "    <tr>\n",
       "      <th>5</th>\n",
       "      <td>KDW9420</td>\n",
       "      <td>NY</td>\n",
       "      <td>INFIN</td>\n",
       "      <td>0655P</td>\n",
       "      <td>NB KNAPP ST @ VOORHI</td>\n",
       "      <td>BK</td>\n",
       "    </tr>\n",
       "    <tr>\n",
       "      <th>6</th>\n",
       "      <td>HLB4150</td>\n",
       "      <td>NY</td>\n",
       "      <td>HONDA</td>\n",
       "      <td>1049A</td>\n",
       "      <td>Surf Ave</td>\n",
       "      <td>GY</td>\n",
       "    </tr>\n",
       "    <tr>\n",
       "      <th>...</th>\n",
       "      <td>...</td>\n",
       "      <td>...</td>\n",
       "      <td>...</td>\n",
       "      <td>...</td>\n",
       "      <td>...</td>\n",
       "      <td>...</td>\n",
       "    </tr>\n",
       "    <tr>\n",
       "      <th>49995</th>\n",
       "      <td>JPN4910</td>\n",
       "      <td>NY</td>\n",
       "      <td>FORD</td>\n",
       "      <td>0342P</td>\n",
       "      <td>EB E 125TH ST @ 2ND</td>\n",
       "      <td>RD</td>\n",
       "    </tr>\n",
       "    <tr>\n",
       "      <th>49996</th>\n",
       "      <td>174ZYG</td>\n",
       "      <td>CT</td>\n",
       "      <td>TOYOT</td>\n",
       "      <td>0828A</td>\n",
       "      <td>W 13th St</td>\n",
       "      <td>BLACK</td>\n",
       "    </tr>\n",
       "    <tr>\n",
       "      <th>49997</th>\n",
       "      <td>HES6895</td>\n",
       "      <td>NY</td>\n",
       "      <td>CADIL</td>\n",
       "      <td>0933P</td>\n",
       "      <td>E 182nd St</td>\n",
       "      <td>RD</td>\n",
       "    </tr>\n",
       "    <tr>\n",
       "      <th>49998</th>\n",
       "      <td>63035MN</td>\n",
       "      <td>NY</td>\n",
       "      <td>ISUZU</td>\n",
       "      <td>1215P</td>\n",
       "      <td>W Kingsbridge Rd</td>\n",
       "      <td>WH</td>\n",
       "    </tr>\n",
       "    <tr>\n",
       "      <th>49999</th>\n",
       "      <td>AW74165</td>\n",
       "      <td>CT</td>\n",
       "      <td>HONDA</td>\n",
       "      <td>0128P</td>\n",
       "      <td>Canal Pl</td>\n",
       "      <td>BLACK</td>\n",
       "    </tr>\n",
       "  </tbody>\n",
       "</table>\n",
       "<p>47446 rows × 6 columns</p>\n",
       "</div>"
      ],
      "text/plain": [
       "      Plate ID Registration State Vehicle Make Violation Time  \\\n",
       "0      KGK6659                 NY          BMW          0637P   \n",
       "1      L5232HY                 TN        INTER          0853A   \n",
       "2       BPMN76                 FL        NISSA          0853A   \n",
       "5      KDW9420                 NY        INFIN          0655P   \n",
       "6      HLB4150                 NY        HONDA          1049A   \n",
       "...        ...                ...          ...            ...   \n",
       "49995  JPN4910                 NY         FORD          0342P   \n",
       "49996   174ZYG                 CT        TOYOT          0828A   \n",
       "49997  HES6895                 NY        CADIL          0933P   \n",
       "49998  63035MN                 NY        ISUZU          1215P   \n",
       "49999  AW74165                 CT        HONDA          0128P   \n",
       "\n",
       "                Street Name Vehicle Color  \n",
       "0      WB ATLANTIC AVE @ SH            GY  \n",
       "1       Rockaway Beach Blvd         WHITE  \n",
       "2                W 113th St         BLACK  \n",
       "5      NB KNAPP ST @ VOORHI            BK  \n",
       "6                  Surf Ave            GY  \n",
       "...                     ...           ...  \n",
       "49995   EB E 125TH ST @ 2ND            RD  \n",
       "49996             W 13th St         BLACK  \n",
       "49997            E 182nd St            RD  \n",
       "49998      W Kingsbridge Rd            WH  \n",
       "49999              Canal Pl         BLACK  \n",
       "\n",
       "[47446 rows x 6 columns]"
      ]
     },
     "execution_count": 4,
     "metadata": {},
     "output_type": "execute_result"
    }
   ],
   "source": [
    "pruned_df = violations_df.dropna(axis = 'index', how = 'any')\n",
    "pruned_df"
   ]
  },
  {
   "cell_type": "markdown",
   "metadata": {},
   "source": [
    "b). How many rows remain after doing this pruning?"
   ]
  },
  {
   "cell_type": "code",
   "execution_count": 5,
   "metadata": {},
   "outputs": [
    {
     "name": "stdout",
     "output_type": "stream",
     "text": [
      "The number of rows that remain after removing rows with any missing data(i.e., NaN values) is: 47,446\n"
     ]
    }
   ],
   "source": [
    "remaining_rows = pruned_df.shape[0]\n",
    "print(f'The number of rows that remain after removing rows with any missing data(i.e., NaN values) is: {remaining_rows:,}')"
   ]
  },
  {
   "cell_type": "markdown",
   "metadata": {},
   "source": [
    "c). If each parking ticket brings $100 into the city, and missing data means that the ticket can be successfully contested, how much money might New York City lose as a result of such missing data?"
   ]
  },
  {
   "cell_type": "code",
   "execution_count": 6,
   "metadata": {},
   "outputs": [
    {
     "name": "stdout",
     "output_type": "stream",
     "text": [
      "The amount of money New York City might lose as a result of tickets being successfully contested as a result of missing data is: $ 255,400.00\n"
     ]
    }
   ],
   "source": [
    "money_might_lose = (total_rows - remaining_rows) * 100\n",
    "print(f'The amount of money New York City might lose as a result of tickets being successfully contested as a result of missing data is: $ {money_might_lose:,.2f}')"
   ]
  },
  {
   "cell_type": "markdown",
   "metadata": {},
   "source": [
    "3. Let's instead assume that a ticket can only be dismissed if the license plate, state, car make, and/or street name are missing."
   ]
  },
  {
   "cell_type": "markdown",
   "metadata": {},
   "source": [
    "a). Remove rows that are missing one or more of these."
   ]
  },
  {
   "cell_type": "code",
   "execution_count": 7,
   "metadata": {},
   "outputs": [
    {
     "data": {
      "text/html": [
       "<div>\n",
       "<style scoped>\n",
       "    .dataframe tbody tr th:only-of-type {\n",
       "        vertical-align: middle;\n",
       "    }\n",
       "\n",
       "    .dataframe tbody tr th {\n",
       "        vertical-align: top;\n",
       "    }\n",
       "\n",
       "    .dataframe thead th {\n",
       "        text-align: right;\n",
       "    }\n",
       "</style>\n",
       "<table border=\"1\" class=\"dataframe\">\n",
       "  <thead>\n",
       "    <tr style=\"text-align: right;\">\n",
       "      <th></th>\n",
       "      <th>Plate ID</th>\n",
       "      <th>Registration State</th>\n",
       "      <th>Vehicle Make</th>\n",
       "      <th>Violation Time</th>\n",
       "      <th>Street Name</th>\n",
       "      <th>Vehicle Color</th>\n",
       "    </tr>\n",
       "  </thead>\n",
       "  <tbody>\n",
       "    <tr>\n",
       "      <th>0</th>\n",
       "      <td>KGK6659</td>\n",
       "      <td>NY</td>\n",
       "      <td>BMW</td>\n",
       "      <td>0637P</td>\n",
       "      <td>WB ATLANTIC AVE @ SH</td>\n",
       "      <td>GY</td>\n",
       "    </tr>\n",
       "    <tr>\n",
       "      <th>1</th>\n",
       "      <td>L5232HY</td>\n",
       "      <td>TN</td>\n",
       "      <td>INTER</td>\n",
       "      <td>0853A</td>\n",
       "      <td>Rockaway Beach Blvd</td>\n",
       "      <td>WHITE</td>\n",
       "    </tr>\n",
       "    <tr>\n",
       "      <th>2</th>\n",
       "      <td>BPMN76</td>\n",
       "      <td>FL</td>\n",
       "      <td>NISSA</td>\n",
       "      <td>0853A</td>\n",
       "      <td>W 113th St</td>\n",
       "      <td>BLACK</td>\n",
       "    </tr>\n",
       "    <tr>\n",
       "      <th>4</th>\n",
       "      <td>M81KFJ</td>\n",
       "      <td>NJ</td>\n",
       "      <td>TOYOT</td>\n",
       "      <td>0723A</td>\n",
       "      <td>WB FOSTER AVE @ E 18</td>\n",
       "      <td>NaN</td>\n",
       "    </tr>\n",
       "    <tr>\n",
       "      <th>5</th>\n",
       "      <td>KDW9420</td>\n",
       "      <td>NY</td>\n",
       "      <td>INFIN</td>\n",
       "      <td>0655P</td>\n",
       "      <td>NB KNAPP ST @ VOORHI</td>\n",
       "      <td>BK</td>\n",
       "    </tr>\n",
       "    <tr>\n",
       "      <th>...</th>\n",
       "      <td>...</td>\n",
       "      <td>...</td>\n",
       "      <td>...</td>\n",
       "      <td>...</td>\n",
       "      <td>...</td>\n",
       "      <td>...</td>\n",
       "    </tr>\n",
       "    <tr>\n",
       "      <th>49995</th>\n",
       "      <td>JPN4910</td>\n",
       "      <td>NY</td>\n",
       "      <td>FORD</td>\n",
       "      <td>0342P</td>\n",
       "      <td>EB E 125TH ST @ 2ND</td>\n",
       "      <td>RD</td>\n",
       "    </tr>\n",
       "    <tr>\n",
       "      <th>49996</th>\n",
       "      <td>174ZYG</td>\n",
       "      <td>CT</td>\n",
       "      <td>TOYOT</td>\n",
       "      <td>0828A</td>\n",
       "      <td>W 13th St</td>\n",
       "      <td>BLACK</td>\n",
       "    </tr>\n",
       "    <tr>\n",
       "      <th>49997</th>\n",
       "      <td>HES6895</td>\n",
       "      <td>NY</td>\n",
       "      <td>CADIL</td>\n",
       "      <td>0933P</td>\n",
       "      <td>E 182nd St</td>\n",
       "      <td>RD</td>\n",
       "    </tr>\n",
       "    <tr>\n",
       "      <th>49998</th>\n",
       "      <td>63035MN</td>\n",
       "      <td>NY</td>\n",
       "      <td>ISUZU</td>\n",
       "      <td>1215P</td>\n",
       "      <td>W Kingsbridge Rd</td>\n",
       "      <td>WH</td>\n",
       "    </tr>\n",
       "    <tr>\n",
       "      <th>49999</th>\n",
       "      <td>AW74165</td>\n",
       "      <td>CT</td>\n",
       "      <td>HONDA</td>\n",
       "      <td>0128P</td>\n",
       "      <td>Canal Pl</td>\n",
       "      <td>BLACK</td>\n",
       "    </tr>\n",
       "  </tbody>\n",
       "</table>\n",
       "<p>49856 rows × 6 columns</p>\n",
       "</div>"
      ],
      "text/plain": [
       "      Plate ID Registration State Vehicle Make Violation Time  \\\n",
       "0      KGK6659                 NY          BMW          0637P   \n",
       "1      L5232HY                 TN        INTER          0853A   \n",
       "2       BPMN76                 FL        NISSA          0853A   \n",
       "4       M81KFJ                 NJ        TOYOT          0723A   \n",
       "5      KDW9420                 NY        INFIN          0655P   \n",
       "...        ...                ...          ...            ...   \n",
       "49995  JPN4910                 NY         FORD          0342P   \n",
       "49996   174ZYG                 CT        TOYOT          0828A   \n",
       "49997  HES6895                 NY        CADIL          0933P   \n",
       "49998  63035MN                 NY        ISUZU          1215P   \n",
       "49999  AW74165                 CT        HONDA          0128P   \n",
       "\n",
       "                Street Name Vehicle Color  \n",
       "0      WB ATLANTIC AVE @ SH            GY  \n",
       "1       Rockaway Beach Blvd         WHITE  \n",
       "2                W 113th St         BLACK  \n",
       "4      WB FOSTER AVE @ E 18           NaN  \n",
       "5      NB KNAPP ST @ VOORHI            BK  \n",
       "...                     ...           ...  \n",
       "49995   EB E 125TH ST @ 2ND            RD  \n",
       "49996             W 13th St         BLACK  \n",
       "49997            E 182nd St            RD  \n",
       "49998      W Kingsbridge Rd            WH  \n",
       "49999              Canal Pl         BLACK  \n",
       "\n",
       "[49856 rows x 6 columns]"
      ]
     },
     "execution_count": 7,
     "metadata": {},
     "output_type": "execute_result"
    }
   ],
   "source": [
    "conditional_prunned_df = violations_df.dropna(axis = 'index', how = 'any', subset = ['Plate ID', 'Registration State', 'Vehicle Make', 'Street Name'])\n",
    "conditional_prunned_df"
   ]
  },
  {
   "cell_type": "markdown",
   "metadata": {},
   "source": [
    "b). How many rows remain?"
   ]
  },
  {
   "cell_type": "code",
   "execution_count": 8,
   "metadata": {},
   "outputs": [
    {
     "name": "stdout",
     "output_type": "stream",
     "text": [
      "The number of rows remaining after removing rows missing license plate, state, car make, and/or street name values is: 49,856\n"
     ]
    }
   ],
   "source": [
    "total_rows_remaining = conditional_prunned_df.shape[0]\n",
    "print(f'The number of rows remaining after removing rows missing license plate, state, car make, and/or street name values is: {total_rows_remaining:,}')"
   ]
  },
  {
   "cell_type": "markdown",
   "metadata": {},
   "source": [
    "c). Assuming $100/ticket, how much money would the city lose as a result of this missing data?"
   ]
  },
  {
   "cell_type": "code",
   "execution_count": 9,
   "metadata": {},
   "outputs": [
    {
     "name": "stdout",
     "output_type": "stream",
     "text": [
      "The total amount of money the city would lose as a result of this missing data is: $14,400.00\n"
     ]
    }
   ],
   "source": [
    "missing_data_money_loss = (total_rows - total_rows_remaining) * 100\n",
    "print(f'The total amount of money the city would lose as a result of this missing data is: ${missing_data_money_loss:,.2f}')"
   ]
  },
  {
   "cell_type": "markdown",
   "metadata": {},
   "source": [
    "# **Week 9 Peer Programming Project**"
   ]
  },
  {
   "cell_type": "markdown",
   "metadata": {},
   "source": [
    "Using the same **nyc-ticket-violation dataset**, let's assume that tickets can be dismissed if the license plate, state, and/or street name are all there but without requiring the make of car."
   ]
  },
  {
   "cell_type": "markdown",
   "metadata": {},
   "source": [
    "1. Remove rows that are missing one or more of these."
   ]
  },
  {
   "cell_type": "code",
   "execution_count": 10,
   "metadata": {},
   "outputs": [
    {
     "data": {
      "text/html": [
       "<div>\n",
       "<style scoped>\n",
       "    .dataframe tbody tr th:only-of-type {\n",
       "        vertical-align: middle;\n",
       "    }\n",
       "\n",
       "    .dataframe tbody tr th {\n",
       "        vertical-align: top;\n",
       "    }\n",
       "\n",
       "    .dataframe thead th {\n",
       "        text-align: right;\n",
       "    }\n",
       "</style>\n",
       "<table border=\"1\" class=\"dataframe\">\n",
       "  <thead>\n",
       "    <tr style=\"text-align: right;\">\n",
       "      <th></th>\n",
       "      <th>Plate ID</th>\n",
       "      <th>Registration State</th>\n",
       "      <th>Vehicle Make</th>\n",
       "      <th>Violation Time</th>\n",
       "      <th>Street Name</th>\n",
       "      <th>Vehicle Color</th>\n",
       "    </tr>\n",
       "  </thead>\n",
       "  <tbody>\n",
       "    <tr>\n",
       "      <th>0</th>\n",
       "      <td>KGK6659</td>\n",
       "      <td>NY</td>\n",
       "      <td>BMW</td>\n",
       "      <td>0637P</td>\n",
       "      <td>WB ATLANTIC AVE @ SH</td>\n",
       "      <td>GY</td>\n",
       "    </tr>\n",
       "    <tr>\n",
       "      <th>1</th>\n",
       "      <td>L5232HY</td>\n",
       "      <td>TN</td>\n",
       "      <td>INTER</td>\n",
       "      <td>0853A</td>\n",
       "      <td>Rockaway Beach Blvd</td>\n",
       "      <td>WHITE</td>\n",
       "    </tr>\n",
       "    <tr>\n",
       "      <th>2</th>\n",
       "      <td>BPMN76</td>\n",
       "      <td>FL</td>\n",
       "      <td>NISSA</td>\n",
       "      <td>0853A</td>\n",
       "      <td>W 113th St</td>\n",
       "      <td>BLACK</td>\n",
       "    </tr>\n",
       "    <tr>\n",
       "      <th>3</th>\n",
       "      <td>57387MJ</td>\n",
       "      <td>NY</td>\n",
       "      <td>NaN</td>\n",
       "      <td>0444P</td>\n",
       "      <td>W 33rd St</td>\n",
       "      <td>WH</td>\n",
       "    </tr>\n",
       "    <tr>\n",
       "      <th>4</th>\n",
       "      <td>M81KFJ</td>\n",
       "      <td>NJ</td>\n",
       "      <td>TOYOT</td>\n",
       "      <td>0723A</td>\n",
       "      <td>WB FOSTER AVE @ E 18</td>\n",
       "      <td>NaN</td>\n",
       "    </tr>\n",
       "    <tr>\n",
       "      <th>...</th>\n",
       "      <td>...</td>\n",
       "      <td>...</td>\n",
       "      <td>...</td>\n",
       "      <td>...</td>\n",
       "      <td>...</td>\n",
       "      <td>...</td>\n",
       "    </tr>\n",
       "    <tr>\n",
       "      <th>49995</th>\n",
       "      <td>JPN4910</td>\n",
       "      <td>NY</td>\n",
       "      <td>FORD</td>\n",
       "      <td>0342P</td>\n",
       "      <td>EB E 125TH ST @ 2ND</td>\n",
       "      <td>RD</td>\n",
       "    </tr>\n",
       "    <tr>\n",
       "      <th>49996</th>\n",
       "      <td>174ZYG</td>\n",
       "      <td>CT</td>\n",
       "      <td>TOYOT</td>\n",
       "      <td>0828A</td>\n",
       "      <td>W 13th St</td>\n",
       "      <td>BLACK</td>\n",
       "    </tr>\n",
       "    <tr>\n",
       "      <th>49997</th>\n",
       "      <td>HES6895</td>\n",
       "      <td>NY</td>\n",
       "      <td>CADIL</td>\n",
       "      <td>0933P</td>\n",
       "      <td>E 182nd St</td>\n",
       "      <td>RD</td>\n",
       "    </tr>\n",
       "    <tr>\n",
       "      <th>49998</th>\n",
       "      <td>63035MN</td>\n",
       "      <td>NY</td>\n",
       "      <td>ISUZU</td>\n",
       "      <td>1215P</td>\n",
       "      <td>W Kingsbridge Rd</td>\n",
       "      <td>WH</td>\n",
       "    </tr>\n",
       "    <tr>\n",
       "      <th>49999</th>\n",
       "      <td>AW74165</td>\n",
       "      <td>CT</td>\n",
       "      <td>HONDA</td>\n",
       "      <td>0128P</td>\n",
       "      <td>Canal Pl</td>\n",
       "      <td>BLACK</td>\n",
       "    </tr>\n",
       "  </tbody>\n",
       "</table>\n",
       "<p>49990 rows × 6 columns</p>\n",
       "</div>"
      ],
      "text/plain": [
       "      Plate ID Registration State Vehicle Make Violation Time  \\\n",
       "0      KGK6659                 NY          BMW          0637P   \n",
       "1      L5232HY                 TN        INTER          0853A   \n",
       "2       BPMN76                 FL        NISSA          0853A   \n",
       "3      57387MJ                 NY          NaN          0444P   \n",
       "4       M81KFJ                 NJ        TOYOT          0723A   \n",
       "...        ...                ...          ...            ...   \n",
       "49995  JPN4910                 NY         FORD          0342P   \n",
       "49996   174ZYG                 CT        TOYOT          0828A   \n",
       "49997  HES6895                 NY        CADIL          0933P   \n",
       "49998  63035MN                 NY        ISUZU          1215P   \n",
       "49999  AW74165                 CT        HONDA          0128P   \n",
       "\n",
       "                Street Name Vehicle Color  \n",
       "0      WB ATLANTIC AVE @ SH            GY  \n",
       "1       Rockaway Beach Blvd         WHITE  \n",
       "2                W 113th St         BLACK  \n",
       "3                 W 33rd St            WH  \n",
       "4      WB FOSTER AVE @ E 18           NaN  \n",
       "...                     ...           ...  \n",
       "49995   EB E 125TH ST @ 2ND            RD  \n",
       "49996             W 13th St         BLACK  \n",
       "49997            E 182nd St            RD  \n",
       "49998      W Kingsbridge Rd            WH  \n",
       "49999              Canal Pl         BLACK  \n",
       "\n",
       "[49990 rows x 6 columns]"
      ]
     },
     "execution_count": 10,
     "metadata": {},
     "output_type": "execute_result"
    }
   ],
   "source": [
    "new_prunned_df = violations_df.dropna(axis = 'index', how = 'any', subset = ['Plate ID', 'Registration State', 'Street Name'])\n",
    "new_prunned_df"
   ]
  },
  {
   "cell_type": "markdown",
   "metadata": {},
   "source": [
    "2. How many rows remain?"
   ]
  },
  {
   "cell_type": "code",
   "execution_count": 11,
   "metadata": {},
   "outputs": [
    {
     "name": "stdout",
     "output_type": "stream",
     "text": [
      "The number of rows that remain after removing rows missing one or more values in the columns representing license plate, state, and/or street name is: 49,990\n"
     ]
    }
   ],
   "source": [
    "num_rows_remain = new_prunned_df.shape[0]\n",
    "print(f'The number of rows that remain after removing rows missing one or more values in the columns representing license plate, state, and/or street name is: {num_rows_remain:,}')"
   ]
  },
  {
   "cell_type": "markdown",
   "metadata": {},
   "source": [
    "3. Assuming $100/ticket, how much money would the city lose as a result of this?"
   ]
  },
  {
   "cell_type": "code",
   "execution_count": 12,
   "metadata": {},
   "outputs": [
    {
     "name": "stdout",
     "output_type": "stream",
     "text": [
      "The total amount of money the city would lose as a result of tickets dismissal for those who provided their license plate, state, and/or street name is: $ 4,999,000.00\n"
     ]
    }
   ],
   "source": [
    "amount_will_lose = num_rows_remain * 100\n",
    "print(f'The total amount of money the city would lose as a result of tickets dismissal for those who provided their license plate, state, and/or street name is: $ {amount_will_lose:,.2f}')"
   ]
  }
 ],
 "metadata": {
  "kernelspec": {
   "display_name": "Python 3.10.7 64-bit",
   "language": "python",
   "name": "python3"
  },
  "language_info": {
   "codemirror_mode": {
    "name": "ipython",
    "version": 3
   },
   "file_extension": ".py",
   "mimetype": "text/x-python",
   "name": "python",
   "nbconvert_exporter": "python",
   "pygments_lexer": "ipython3",
   "version": "3.10.7"
  },
  "orig_nbformat": 4,
  "vscode": {
   "interpreter": {
    "hash": "c1e94f3e9cf47a2296e52f89950a22b5d07ea05f6a0db6c01e468849e9483daa"
   }
  }
 },
 "nbformat": 4,
 "nbformat_minor": 2
}
